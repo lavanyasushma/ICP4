{
  "nbformat": 4,
  "nbformat_minor": 0,
  "metadata": {
    "colab": {
      "provenance": []
    },
    "kernelspec": {
      "name": "python3",
      "display_name": "Python 3"
    },
    "language_info": {
      "name": "python"
    }
  },
  "cells": [
    {
      "cell_type": "code",
      "execution_count": 25,
      "metadata": {
        "id": "oVC9RY8qZvUU"
      },
      "outputs": [],
      "source": [
        "# Question 2"
      ]
    },
    {
      "cell_type": "code",
      "source": [
        "from keras import Sequential\n",
        "from keras.datasets import mnist\n",
        "import numpy as np\n",
        "from keras.layers import Dense\n",
        "from keras.utils import to_categorical\n",
        "\n",
        "import matplotlib.pyplot as plt\n",
        "\n",
        "(train_images,train_labels),(test_images, test_labels) = mnist.load_data()\n",
        "\n",
        "#process the data\n",
        "#1. convert each image of shape 28*28 to 784 dimensional which will be fed to the network as a single feature\n",
        "dimData = np.prod(train_images.shape[1:])\n",
        "print(dimData)\n",
        "train_data = train_images.reshape(train_images.shape[0],dimData)\n",
        "test_data = test_images.reshape(test_images.shape[0],dimData)\n",
        "\n",
        "#convert data to float and scale values between 0 and 1\n",
        "train_data = train_data.astype('float')\n",
        "test_data = test_data.astype('float')\n",
        "#scale data\n",
        "train_data /=255.0\n",
        "test_data /=255.0\n",
        "#change the labels frominteger to one-hot encoding. to_categorical is doing the same thing as LabelEncoder()\n",
        "train_labels_one_hot = to_categorical(train_labels)\n",
        "test_labels_one_hot = to_categorical(test_labels)\n",
        "\n",
        "#creating network\n",
        "model = Sequential()\n",
        "model.add(Dense(512, activation='relu', input_shape=(dimData,)))\n",
        "model.add(Dense(512, activation='relu'))\n",
        "model.add(Dense(10, activation='softmax'))\n"
      ],
      "metadata": {
        "colab": {
          "base_uri": "https://localhost:8080/"
        },
        "id": "STLL37i1ZzI6",
        "outputId": "24d45c43-5667-4872-80fa-eb305845127c"
      },
      "execution_count": 2,
      "outputs": [
        {
          "output_type": "stream",
          "name": "stdout",
          "text": [
            "Downloading data from https://storage.googleapis.com/tensorflow/tf-keras-datasets/mnist.npz\n",
            "11490434/11490434 [==============================] - 1s 0us/step\n",
            "784\n"
          ]
        }
      ]
    },
    {
      "cell_type": "code",
      "source": [
        "#2.a Plot the loss and accuracy for both training data and validation data using the history object in the source code."
      ],
      "metadata": {
        "id": "jK-ojksjZ7qK"
      },
      "execution_count": 24,
      "outputs": []
    },
    {
      "cell_type": "code",
      "source": [
        "model.compile(optimizer='rmsprop', loss='categorical_crossentropy', metrics=['accuracy'])\n",
        "history = model.fit(train_data, train_labels_one_hot, batch_size=256, epochs=10, verbose=1,\n",
        "                   validation_data=(test_data, test_labels_one_hot))"
      ],
      "metadata": {
        "colab": {
          "base_uri": "https://localhost:8080/"
        },
        "id": "2qL4zUUGaHaL",
        "outputId": "49b615b8-0aed-4a53-d561-93c091715825"
      },
      "execution_count": 4,
      "outputs": [
        {
          "output_type": "stream",
          "name": "stdout",
          "text": [
            "Epoch 1/10\n",
            "235/235 [==============================] - 7s 28ms/step - loss: 0.2839 - accuracy: 0.9138 - val_loss: 0.1155 - val_accuracy: 0.9631\n",
            "Epoch 2/10\n",
            "235/235 [==============================] - 5s 21ms/step - loss: 0.0987 - accuracy: 0.9694 - val_loss: 0.1174 - val_accuracy: 0.9623\n",
            "Epoch 3/10\n",
            "235/235 [==============================] - 9s 37ms/step - loss: 0.0627 - accuracy: 0.9804 - val_loss: 0.0889 - val_accuracy: 0.9717\n",
            "Epoch 4/10\n",
            "235/235 [==============================] - 8s 36ms/step - loss: 0.0440 - accuracy: 0.9862 - val_loss: 0.0641 - val_accuracy: 0.9801\n",
            "Epoch 5/10\n",
            "235/235 [==============================] - 6s 27ms/step - loss: 0.0319 - accuracy: 0.9901 - val_loss: 0.0664 - val_accuracy: 0.9789\n",
            "Epoch 6/10\n",
            "235/235 [==============================] - 6s 23ms/step - loss: 0.0220 - accuracy: 0.9929 - val_loss: 0.0773 - val_accuracy: 0.9804\n",
            "Epoch 7/10\n",
            "235/235 [==============================] - 7s 28ms/step - loss: 0.0159 - accuracy: 0.9950 - val_loss: 0.0619 - val_accuracy: 0.9840\n",
            "Epoch 8/10\n",
            "235/235 [==============================] - 5s 21ms/step - loss: 0.0131 - accuracy: 0.9955 - val_loss: 0.0660 - val_accuracy: 0.9832\n",
            "Epoch 9/10\n",
            "235/235 [==============================] - 5s 22ms/step - loss: 0.0091 - accuracy: 0.9973 - val_loss: 0.0760 - val_accuracy: 0.9804\n",
            "Epoch 10/10\n",
            "235/235 [==============================] - 6s 25ms/step - loss: 0.0062 - accuracy: 0.9980 - val_loss: 0.0776 - val_accuracy: 0.9811\n"
          ]
        }
      ]
    },
    {
      "cell_type": "code",
      "source": [
        "[test_loss, test_acc] = model.evaluate(test_data, test_labels_one_hot)\n",
        "print(\"Evaluation result on Test Data : Loss = {}, accuracy = {}\".format(test_loss, test_acc))\n",
        "\n",
        "history.history.keys()"
      ],
      "metadata": {
        "colab": {
          "base_uri": "https://localhost:8080/"
        },
        "id": "N1YzBflxaZui",
        "outputId": "edf3a35d-bcfb-4c78-ae96-9832c6f7815d"
      },
      "execution_count": 5,
      "outputs": [
        {
          "output_type": "stream",
          "name": "stdout",
          "text": [
            "313/313 [==============================] - 1s 2ms/step - loss: 0.0776 - accuracy: 0.9811\n",
            "Evaluation result on Test Data : Loss = 0.07757890969514847, accuracy = 0.9811000227928162\n"
          ]
        },
        {
          "output_type": "execute_result",
          "data": {
            "text/plain": [
              "dict_keys(['loss', 'accuracy', 'val_loss', 'val_accuracy'])"
            ]
          },
          "metadata": {},
          "execution_count": 5
        }
      ]
    },
    {
      "cell_type": "code",
      "source": [
        "plt.plot(history.history['accuracy'])\n",
        "plt.plot(history.history['val_accuracy'])\n",
        "plt.plot(history.history['loss'])\n",
        "plt.plot(history.history['val_loss'])\n",
        "plt.title('model accuracy')\n",
        "plt.ylabel('accuracy')\n",
        "plt.xlabel('epoch')\n",
        "plt.legend(['accuracy', 'val_accuracy','loss','val_loss'], loc='upper left')\n",
        "plt.show()\n"
      ],
      "metadata": {
        "colab": {
          "base_uri": "https://localhost:8080/",
          "height": 472
        },
        "id": "SxyzuId6aczn",
        "outputId": "0ec8fb77-21ee-4019-88a4-66439a877f7d"
      },
      "execution_count": 6,
      "outputs": [
        {
          "output_type": "display_data",
          "data": {
            "text/plain": [
              "<Figure size 640x480 with 1 Axes>"
            ],
            "image/png": "[encoded data removed]"
          },
          "metadata": {}
        }
      ]
    },
    {
      "cell_type": "code",
      "source": [
        "# 2.b Plot one of the images in the test data, and then do inferencing to check what is the prediction of the model on that single image.\n"
      ],
      "metadata": {
        "id": "pSWT_9nzagPq"
      },
      "execution_count": 22,
      "outputs": []
    },
    {
      "cell_type": "code",
      "source": [
        "plt.imshow(test_data[0].reshape(28,28))\n",
        "print(\"predicted label:\",model.predict(test_data[0].reshape(1,784)))"
      ],
      "metadata": {
        "colab": {
          "base_uri": "https://localhost:8080/",
          "height": 482
        },
        "id": "IKcg9lrbamgY",
        "outputId": "94161649-855b-43b7-84a8-4dd6d08442cc"
      },
      "execution_count": 14,
      "outputs": [
        {
          "output_type": "stream",
          "name": "stdout",
          "text": [
            "1/1 [==============================] - 0s 109ms/step\n",
            "predicted label: [[1.0148513e-11 1.4476126e-10 1.3238239e-09 2.9665346e-08 1.2133385e-13\n",
            "  2.7160796e-11 8.0293463e-15 1.0000000e+00 2.0528143e-11 5.3142619e-09]]\n"
          ]
        },
        {
          "output_type": "display_data",
          "data": {
            "text/plain": [
              "<Figure size 640x480 with 1 Axes>"
            ],
            "image/png": "[encoded data removed]"
          },
          "metadata": {}
        }
      ]
    },
    {
      "cell_type": "code",
      "source": [
        "# 2.c We had used 2 hidden layers and Relu activation. Try to change the number of hidden layer and the activation to tanh or sigmoid and see what happens."
      ],
      "metadata": {
        "id": "1LKdNe7Pa7xx"
      },
      "execution_count": 21,
      "outputs": []
    },
    {
      "cell_type": "code",
      "source": [
        "#increasing the number of hidden layers to 6\n",
        "model = Sequential()\n",
        "model.add(Dense(512, activation='relu', input_shape=(dimData,)))\n",
        "model.add(Dense(512, activation='relu'))\n",
        "model.add(Dense(512, activation='relu'))\n",
        "model.add(Dense(512, activation='relu'))\n",
        "model.add(Dense(512, activation='relu'))\n",
        "model.add(Dense(512, activation='relu'))\n",
        "model.add(Dense(10, activation='softmax'))\n",
        "\n",
        "model.compile(optimizer='rmsprop', loss='categorical_crossentropy', metrics=['accuracy'])\n",
        "history = model.fit(train_data, train_labels_one_hot, batch_size=256, epochs=10, verbose=1,\n",
        "                   validation_data=(test_data, test_labels_one_hot))\n",
        "\n",
        "[test_loss1, test_acc1] = model.evaluate(test_data, test_labels_one_hot)\n",
        "print(\"Evaluation result on Test Data with 4 hidden layers: Loss = {}, accuracy = {}\".format(test_loss1, test_acc1))"
      ],
      "metadata": {
        "colab": {
          "base_uri": "https://localhost:8080/"
        },
        "id": "KEAqybeca-2V",
        "outputId": "0dd02bd1-129f-49bf-b472-f7b254fb0989"
      },
      "execution_count": 16,
      "outputs": [
        {
          "output_type": "stream",
          "name": "stdout",
          "text": [
            "Epoch 1/10\n",
            "235/235 [==============================] - 18s 67ms/step - loss: 0.4805 - accuracy: 0.8431 - val_loss: 0.3580 - val_accuracy: 0.9087\n",
            "Epoch 2/10\n",
            "235/235 [==============================] - 15s 64ms/step - loss: 0.1275 - accuracy: 0.9630 - val_loss: 0.1722 - val_accuracy: 0.9525\n",
            "Epoch 3/10\n",
            "235/235 [==============================] - 18s 76ms/step - loss: 0.0798 - accuracy: 0.9773 - val_loss: 0.0803 - val_accuracy: 0.9770\n",
            "Epoch 4/10\n",
            "235/235 [==============================] - 16s 68ms/step - loss: 0.0551 - accuracy: 0.9839 - val_loss: 0.0854 - val_accuracy: 0.9768\n",
            "Epoch 5/10\n",
            "235/235 [==============================] - 16s 67ms/step - loss: 0.0412 - accuracy: 0.9878 - val_loss: 0.1043 - val_accuracy: 0.9690\n",
            "Epoch 6/10\n",
            "235/235 [==============================] - 15s 63ms/step - loss: 0.0310 - accuracy: 0.9909 - val_loss: 0.0849 - val_accuracy: 0.9789\n",
            "Epoch 7/10\n",
            "235/235 [==============================] - 15s 64ms/step - loss: 0.0269 - accuracy: 0.9916 - val_loss: 0.0923 - val_accuracy: 0.9771\n",
            "Epoch 8/10\n",
            "235/235 [==============================] - 15s 63ms/step - loss: 0.0217 - accuracy: 0.9934 - val_loss: 0.0742 - val_accuracy: 0.9820\n",
            "Epoch 9/10\n",
            "235/235 [==============================] - 15s 63ms/step - loss: 0.0165 - accuracy: 0.9949 - val_loss: 0.0853 - val_accuracy: 0.9804\n",
            "Epoch 10/10\n",
            "235/235 [==============================] - 16s 68ms/step - loss: 0.0142 - accuracy: 0.9958 - val_loss: 0.0926 - val_accuracy: 0.9774\n",
            "313/313 [==============================] - 2s 7ms/step - loss: 0.0926 - accuracy: 0.9774\n",
            "Evaluation result on Test Data with 4 hidden layers: Loss = 0.09257949888706207, accuracy = 0.977400004863739\n"
          ]
        }
      ]
    },
    {
      "cell_type": "code",
      "source": [
        "#All hidden layers with tanh activation\n",
        "model = Sequential()\n",
        "model.add(Dense(512, activation='tanh', input_shape=(dimData,)))\n",
        "model.add(Dense(612, activation='tanh'))\n",
        "model.add(Dense(712, activation='tanh'))\n",
        "model.add(Dense(812, activation='tanh'))\n",
        "model.add(Dense(712, activation='tanh'))\n",
        "model.add(Dense(812, activation='tanh'))\n",
        "model.add(Dense(10, activation='softmax'))\n",
        "\n",
        "model.compile(optimizer='rmsprop', loss='categorical_crossentropy', metrics=['accuracy'])\n",
        "history = model.fit(train_data, train_labels_one_hot, batch_size=256, epochs=10, verbose=1,\n",
        "                   validation_data=(test_data, test_labels_one_hot))\n",
        "\n",
        "[test_loss2, test_acc3] = model.evaluate(test_data, test_labels_one_hot)\n",
        "print(\"Evaluation result on Test Data with tanh activation: Loss = {}, accuracy = {}\".format(test_loss2, test_acc3))\n",
        ""
      ],
      "metadata": {
        "colab": {
          "base_uri": "https://localhost:8080/"
        },
        "id": "TzZa977Eb_DN",
        "outputId": "13417104-3231-4810-81d3-73bcb22f6588"
      },
      "execution_count": 18,
      "outputs": [
        {
          "output_type": "stream",
          "name": "stdout",
          "text": [
            "Epoch 1/10\n",
            "235/235 [==============================] - 29s 120ms/step - loss: 1.2410 - accuracy: 0.6902 - val_loss: 0.4478 - val_accuracy: 0.8723\n",
            "Epoch 2/10\n",
            "235/235 [==============================] - 26s 109ms/step - loss: 0.2964 - accuracy: 0.9157 - val_loss: 0.2058 - val_accuracy: 0.9407\n",
            "Epoch 3/10\n",
            "235/235 [==============================] - 26s 109ms/step - loss: 0.1965 - accuracy: 0.9430 - val_loss: 0.5866 - val_accuracy: 0.8627\n",
            "Epoch 4/10\n",
            "235/235 [==============================] - 28s 119ms/step - loss: 0.1515 - accuracy: 0.9561 - val_loss: 0.2061 - val_accuracy: 0.9437\n",
            "Epoch 5/10\n",
            "235/235 [==============================] - 26s 110ms/step - loss: 0.1212 - accuracy: 0.9643 - val_loss: 0.1614 - val_accuracy: 0.9543\n",
            "Epoch 6/10\n",
            "235/235 [==============================] - 25s 109ms/step - loss: 0.0962 - accuracy: 0.9711 - val_loss: 0.1388 - val_accuracy: 0.9636\n",
            "Epoch 7/10\n",
            "235/235 [==============================] - 24s 103ms/step - loss: 0.0768 - accuracy: 0.9770 - val_loss: 0.2264 - val_accuracy: 0.9434\n",
            "Epoch 8/10\n",
            "235/235 [==============================] - 25s 108ms/step - loss: 0.0627 - accuracy: 0.9811 - val_loss: 0.1400 - val_accuracy: 0.9642\n",
            "Epoch 9/10\n",
            "235/235 [==============================] - 25s 107ms/step - loss: 0.0524 - accuracy: 0.9838 - val_loss: 0.4818 - val_accuracy: 0.8946\n",
            "Epoch 10/10\n",
            "235/235 [==============================] - 26s 109ms/step - loss: 0.0435 - accuracy: 0.9872 - val_loss: 0.1640 - val_accuracy: 0.9575\n",
            "313/313 [==============================] - 4s 11ms/step - loss: 0.1640 - accuracy: 0.9575\n",
            "Evaluation result on Test Data with tanh activation: Loss = 0.1640455573797226, accuracy = 0.9574999809265137\n"
          ]
        }
      ]
    },
    {
      "cell_type": "code",
      "source": [
        "# 2.d Run the same code without scaling the images and check the performance?"
      ],
      "metadata": {
        "id": "3YMFYpEoczSb"
      },
      "execution_count": 20,
      "outputs": []
    },
    {
      "cell_type": "code",
      "source": [
        "from keras import Sequential\n",
        "from keras.datasets import mnist\n",
        "import numpy as np\n",
        "from keras.layers import Dense\n",
        "from keras.utils import to_categorical\n",
        "\n",
        "(train_images,train_labels),(test_images, test_labels) = mnist.load_data()\n",
        "\n",
        "print(train_images.shape[1:])\n",
        "#process the data\n",
        "#1. convert each image of shape 28*28 to 784 dimensional which will be fed to the network as a single feature\n",
        "dimData = np.prod(train_images.shape[1:])\n",
        "# print(dimData)\n",
        "train_data = train_images.reshape(train_images.shape[0],dimData)\n",
        "test_data = test_images.reshape(test_images.shape[0],dimData)\n",
        "\n",
        "#convert data to float and scale values between 0 and 1\n",
        "train_data = train_data.astype('float')\n",
        "test_data = test_data.astype('float')\n",
        "\n",
        "#change the labels frominteger to one-hot encoding. to_categorical is doing the same thing as LabelEncoder()\n",
        "train_labels_one_hot = to_categorical(train_labels)\n",
        "test_labels_one_hot = to_categorical(test_labels)\n",
        "#creating network\n",
        "model = Sequential()\n",
        "model.add(Dense(512, activation='relu', input_shape=(dimData,)))\n",
        "model.add(Dense(512, activation='relu'))\n",
        "model.add(Dense(10, activation='softmax'))\n",
        "\n",
        "model.compile(optimizer='rmsprop', loss='categorical_crossentropy', metrics=['accuracy'])\n",
        "history = model.fit(train_data, train_labels_one_hot, batch_size=256, epochs=10, verbose=1,\n",
        "                   validation_data=(test_data, test_labels_one_hot))\n",
        "\n",
        "[test_loss3, test_acc3] = model.evaluate(test_data, test_labels_one_hot)\n",
        "print(\"Evaluation result on Test Data without scaling: Loss = {}, accuracy = {}\".format(test_loss3, test_acc3))"
      ],
      "metadata": {
        "colab": {
          "base_uri": "https://localhost:8080/"
        },
        "id": "sb4020F-c4JD",
        "outputId": "096226a8-bb2f-4c06-dd84-55c1bf91652c"
      },
      "execution_count": 19,
      "outputs": [
        {
          "output_type": "stream",
          "name": "stdout",
          "text": [
            "(28, 28)\n",
            "Epoch 1/10\n",
            "235/235 [==============================] - 6s 25ms/step - loss: 6.3235 - accuracy: 0.8766 - val_loss: 1.2016 - val_accuracy: 0.8893\n",
            "Epoch 2/10\n",
            "235/235 [==============================] - 6s 28ms/step - loss: 0.4297 - accuracy: 0.9462 - val_loss: 0.6903 - val_accuracy: 0.9178\n",
            "Epoch 3/10\n",
            "235/235 [==============================] - 5s 22ms/step - loss: 0.2325 - accuracy: 0.9608 - val_loss: 0.2927 - val_accuracy: 0.9527\n",
            "Epoch 4/10\n",
            "235/235 [==============================] - 5s 23ms/step - loss: 0.1802 - accuracy: 0.9673 - val_loss: 0.2755 - val_accuracy: 0.9551\n",
            "Epoch 5/10\n",
            "235/235 [==============================] - 6s 27ms/step - loss: 0.1448 - accuracy: 0.9726 - val_loss: 0.2860 - val_accuracy: 0.9610\n",
            "Epoch 6/10\n",
            "235/235 [==============================] - 5s 22ms/step - loss: 0.1274 - accuracy: 0.9777 - val_loss: 0.2740 - val_accuracy: 0.9648\n",
            "Epoch 7/10\n",
            "235/235 [==============================] - 6s 28ms/step - loss: 0.1298 - accuracy: 0.9792 - val_loss: 0.2653 - val_accuracy: 0.9694\n",
            "Epoch 8/10\n",
            "235/235 [==============================] - 6s 26ms/step - loss: 0.1102 - accuracy: 0.9814 - val_loss: 0.3596 - val_accuracy: 0.9658\n",
            "Epoch 9/10\n",
            "235/235 [==============================] - 12s 49ms/step - loss: 0.1049 - accuracy: 0.9837 - val_loss: 0.3125 - val_accuracy: 0.9690\n",
            "Epoch 10/10\n",
            "235/235 [==============================] - 5s 23ms/step - loss: 0.0989 - accuracy: 0.9851 - val_loss: 0.3424 - val_accuracy: 0.9719\n",
            "313/313 [==============================] - 1s 3ms/step - loss: 0.3424 - accuracy: 0.9719\n",
            "Evaluation result on Test Data without scaling: Loss = 0.34242451190948486, accuracy = 0.9718999862670898\n"
          ]
        }
      ]
    }
  ]
}